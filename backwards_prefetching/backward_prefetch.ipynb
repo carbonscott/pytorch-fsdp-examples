{
 "cells": [
  {
   "cell_type": "code",
   "execution_count": 1,
   "metadata": {},
   "outputs": [
    {
     "data": {
      "text/plain": [
       "'1.13.0.dev20220706+cu113'"
      ]
     },
     "execution_count": 1,
     "metadata": {},
     "output_type": "execute_result"
    }
   ],
   "source": [
    "import torch\n",
    "torch.__version__"
   ]
  },
  {
   "cell_type": "code",
   "execution_count": 2,
   "metadata": {},
   "outputs": [],
   "source": [
    "# import FSDP and BackwardPrefetch class\n",
    "from torch.distributed.fsdp import (\n",
    "    FullyShardedDataParallel as FSDP,\n",
    "    BackwardPrefetch,\n",
    "    StateDictType,\n",
    "    FullStateDictConfig,  # general model non-sharded, non-flattened params\n",
    "    LocalStateDictConfig,  # flattened params, usable only by FSDP\n",
    "    # ShardedStateDictConfig, # un-flattened param but shards, usable by other parallel schemes.\n",
    ")"
   ]
  },
  {
   "cell_type": "markdown",
   "metadata": {},
   "source": [
    "backward_prefetch param in FSDP init can take three states:\n",
    "\n",
    "1 - None (i.e. don't pass anything) = summon for next FSDP unit comes after the all_reduce for current layer gradients\n",
    "\n",
    "2 - BackwardPrefetch.BACKWARD_POST = prefetch at the end of current FSDP unit computation, after params are dropped\n",
    "\n",
    "3 - BackwardPrefetch.BACKWARD_PRE = prefetch at start of current FSDP unit computation (earliest, adds to peak memory)"
   ]
  },
  {
   "cell_type": "code",
   "execution_count": null,
   "metadata": {},
   "outputs": [],
   "source": [
    "prefetch_policy = BackwardPrefetch.BACKWARD_PRE  # BackwardPrefetch.BACKWARD_POST or None\n",
    "\n",
    "# ----- main FSDP init -----------\n",
    "    model = FSDP(\n",
    "        model,\n",
    "        auto_wrap_policy=my_auto_wrap_policy,\n",
    "        mixed_precision=mp_policy,\n",
    "        backward_prefetch=prefetch_policy,\n",
    "        device_id=torch.cuda.current_device(),\n",
    "        sharding_strategy=ShardingStrategy.FULL_SHARD,  # Zero2\n",
    "        forward_prefetch=True,\n",
    "    )"
   ]
  },
  {
   "cell_type": "code",
   "execution_count": 1,
   "metadata": {},
   "outputs": [],
   "source": [
    "# basic testing - \n",
    "# PRE can improve speed up to 13% with .59% increased peak memory\n",
    "\n",
    "BackwardPrefetch.BACKWARD_PRE\n"
   ]
  },
  {
   "cell_type": "markdown",
   "metadata": {},
   "source": [
    "Animations:"
   ]
  },
  {
   "cell_type": "markdown",
   "metadata": {},
   "source": [
    "![Backwards_START](images/backwardPass_start.png)"
   ]
  },
  {
   "cell_type": "markdown",
   "metadata": {},
   "source": [
    "![Backwards_all_gather](images/all_gather_inmotion.png)"
   ]
  },
  {
   "cell_type": "markdown",
   "metadata": {},
   "source": [
    "PRE:\n",
    "![Backwards_PRE](images/backward_pre.png)"
   ]
  },
  {
   "cell_type": "markdown",
   "metadata": {},
   "source": [
    "POST:![Backwards_NONE](images/post_bpf.png)"
   ]
  },
  {
   "cell_type": "markdown",
   "metadata": {},
   "source": [
    "None: \n",
    "![Backwards_NONE](images/none_bpf.png)\n"
   ]
  },
  {
   "cell_type": "markdown",
   "metadata": {},
   "source": []
  }
 ],
 "metadata": {
  "kernelspec": {
   "display_name": "Python 3.9.13 ('pytorch_p39')",
   "language": "python",
   "name": "python3"
  },
  "language_info": {
   "codemirror_mode": {
    "name": "ipython",
    "version": 3
   },
   "file_extension": ".py",
   "mimetype": "text/x-python",
   "name": "python",
   "nbconvert_exporter": "python",
   "pygments_lexer": "ipython3",
   "version": "3.9.13"
  },
  "orig_nbformat": 4,
  "vscode": {
   "interpreter": {
    "hash": "eb71ac050f92a5d5e3cdea462f22e174d379ee0836c3076b1e7df4a375a19e34"
   }
  }
 },
 "nbformat": 4,
 "nbformat_minor": 2
}
