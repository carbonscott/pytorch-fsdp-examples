{
 "cells": [
  {
   "cell_type": "markdown",
   "metadata": {},
   "source": [
    "Using FSDP Checkpoint activations"
   ]
  },
  {
   "cell_type": "code",
   "execution_count": 1,
   "metadata": {},
   "outputs": [
    {
     "data": {
      "text/plain": [
       "'1.13.0.dev20220618+cu113'"
      ]
     },
     "execution_count": 1,
     "metadata": {},
     "output_type": "execute_result"
    }
   ],
   "source": [
    "# ensure you are on a June 18 or higher (nightly)\n",
    "import torch\n",
    "torch.__version__"
   ]
  },
  {
   "cell_type": "code",
   "execution_count": 3,
   "metadata": {},
   "outputs": [],
   "source": [
    "#some basic imports\n",
    "import torch\n",
    "from functools import partial"
   ]
  },
  {
   "cell_type": "code",
   "execution_count": 11,
   "metadata": {},
   "outputs": [],
   "source": [
    "# main FSDP imports\n",
    "from torch.distributed.fsdp import (\n",
    "    FullyShardedDataParallel as FSDP,\n",
    "    CPUOffload,\n",
    "    MixedPrecision,\n",
    "    BackwardPrefetch,\n",
    "    ShardingStrategy,\n",
    "    FullStateDictConfig,\n",
    "    StateDictType,\n",
    ")"
   ]
  },
  {
   "cell_type": "code",
   "execution_count": 5,
   "metadata": {},
   "outputs": [],
   "source": [
    "# verify we have FSDP activation support ready by importing:\n",
    "from torch.distributed.algorithms._checkpoint.checkpoint_wrapper import (\n",
    "    checkpoint_wrapper,\n",
    "    CheckpointImpl,\n",
    "    apply_activation_checkpointing,\n",
    ")"
   ]
  },
  {
   "cell_type": "code",
   "execution_count": 7,
   "metadata": {},
   "outputs": [],
   "source": [
    "# first step - we have to make a check function to find what layers we want to checkpoint.\n",
    "# For transformers, you'll want to use the same layers as you used for wrapping your transformer. \n",
    "# (Please view the using transformer wrapper tutorial if needed first).\n",
    "\n",
    "# we'll checkpoint a DeepVit model, so we'll want to look for the Residual layer class.\n",
    "from vit_pytorch import Residual\n",
    "\n"
   ]
  },
  {
   "cell_type": "code",
   "execution_count": 8,
   "metadata": {},
   "outputs": [],
   "source": [
    "# second create the submodule check function as a lambda:\n",
    "check_fn = lambda submodule: isinstance(submodule, Residual)"
   ]
  },
  {
   "cell_type": "code",
   "execution_count": 9,
   "metadata": {},
   "outputs": [],
   "source": [
    "# create a non-reentrant wrapper.  \n",
    "# This is basically to provide some options for the checkpoint wrapper, \n",
    "# and we use non-reentrant style for best performance.\n",
    "\n",
    "non_reentrant_wrapper = partial(\n",
    "    checkpoint_wrapper,\n",
    "    offload_to_cpu=False,\n",
    "    checkpoint_impl=CheckpointImpl.NO_REENTRANT,\n",
    ")"
   ]
  },
  {
   "cell_type": "code",
   "execution_count": null,
   "metadata": {},
   "outputs": [],
   "source": [
    "# Important - the next step is actually to init your model with FSDP.  \n",
    "# Activation checkpointing is shard aware, so it must be done ** after ** FSDP init:\n",
    "model = FSDP(\n",
    "        model,\n",
    "        auto_wrap_policy=wrapping_policy,\n",
    "        mixed_precision=mp_policy,\n",
    "        sharding_strategy=model_sharding_strategy,\n",
    "        device_id=torch.cuda.current_device(),  # streaming init\n",
    "    )"
   ]
  },
  {
   "cell_type": "code",
   "execution_count": null,
   "metadata": {},
   "outputs": [],
   "source": [
    "# finally, we'll apply the checkpoint wrapper, and submodule check lamdba to your sharded model\n",
    "#  to complete the activation checkpointing process:\n",
    "\n",
    "apply_activation_checkpointing_wrapper(\n",
    "        model, checkpoint_wrapper_fn=non_reentrant_wrapper, check_fn=check_fn\n",
    "    )"
   ]
  },
  {
   "cell_type": "code",
   "execution_count": 12,
   "metadata": {},
   "outputs": [],
   "source": [
    "# that's it!  Your model is now both sharded and checkpoint activation ready. "
   ]
  },
  {
   "cell_type": "markdown",
   "metadata": {},
   "source": [
    " #### best practices - \n",
    " In general, you can expect to see roughly a 20-25% training time slowdown with activation checkpointing. \n",
    "\n",
    " but you'll usually free up 33 - 38% GPU memory.  \n",
    " You can use that freed up memory by greatly increasing your batch size.\n",
    " The increase batch size can result in substantial (2-3x+) total training time improvements due to much greater throughput.    \n",
    " You can maximize your throughput with a bit of tuning to use up enough GPU memory but without creating cudaMalloRetries.\n",
    " (future tutorial on this)."
   ]
  },
  {
   "cell_type": "markdown",
   "metadata": {},
   "source": []
  }
 ],
 "metadata": {
  "kernelspec": {
   "display_name": "Python 3.9.13 ('pytorch_p39')",
   "language": "python",
   "name": "python3"
  },
  "language_info": {
   "codemirror_mode": {
    "name": "ipython",
    "version": 3
   },
   "file_extension": ".py",
   "mimetype": "text/x-python",
   "name": "python",
   "nbconvert_exporter": "python",
   "pygments_lexer": "ipython3",
   "version": "3.9.13"
  },
  "orig_nbformat": 4,
  "vscode": {
   "interpreter": {
    "hash": "eb71ac050f92a5d5e3cdea462f22e174d379ee0836c3076b1e7df4a375a19e34"
   }
  }
 },
 "nbformat": 4,
 "nbformat_minor": 2
}
