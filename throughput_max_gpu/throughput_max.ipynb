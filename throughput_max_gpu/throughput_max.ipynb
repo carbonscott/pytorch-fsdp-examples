{
 "cells": [
  {
   "cell_type": "code",
   "execution_count": 1,
   "metadata": {},
   "outputs": [
    {
     "data": {
      "text/plain": [
       "'1.13.0.dev20220706+cu113'"
      ]
     },
     "execution_count": 1,
     "metadata": {},
     "output_type": "execute_result"
    }
   ],
   "source": [
    "import torch\n",
    "torch.__version__"
   ]
  },
  {
   "cell_type": "markdown",
   "metadata": {},
   "source": [
    "##### Usual advice to maximize throughput is to crank your batch size up to you OOM, then back off just a touch...now you have maximized throughput."
   ]
  },
  {
   "cell_type": "markdown",
   "metadata": {},
   "source": [
    "##### This is not optimal - you need to back your batch size down both below OOM, and below where you are hitting any cudaMalloc retries! "
   ]
  },
  {
   "cell_type": "code",
   "execution_count": null,
   "metadata": {},
   "outputs": [],
   "source": [
    "# let's take a 2B ViT model - running FSDP Zero2 sharding, and batch size = 4 to start:\n",
    "\n",
    "# 5.55 seconds, 4 images \n",
    "# 69% of GPU memory is being used"
   ]
  },
  {
   "cell_type": "markdown",
   "metadata": {},
   "source": [
    "![Throughput starting point](images/tutorial_base_2B_bs4.png)"
   ]
  },
  {
   "cell_type": "code",
   "execution_count": null,
   "metadata": {},
   "outputs": [],
   "source": [
    "# let's go until we hit OOM:\n",
    "# BS= 24"
   ]
  },
  {
   "cell_type": "markdown",
   "metadata": {},
   "source": [
    "![OOM](images/cuda_oom.png)"
   ]
  },
  {
   "cell_type": "code",
   "execution_count": 5,
   "metadata": {},
   "outputs": [],
   "source": [
    "# let's back off until first point we don't get OOM - this would be considered 'optimal' by conventional measures:\n",
    "# bs=17\n"
   ]
  },
  {
   "cell_type": "markdown",
   "metadata": {},
   "source": [
    "![Batch size 17](images/tutorial_bs_17_retries9.png)"
   ]
  },
  {
   "cell_type": "code",
   "execution_count": 6,
   "metadata": {},
   "outputs": [
    {
     "name": "stdout",
     "output_type": "stream",
     "text": [
      "conventional optimization improvement = 3.2525x\n"
     ]
    }
   ],
   "source": [
    "original_img_per_second = 4/5.5594\n",
    "conventional_best_ips = 17 / 7.2645\n",
    "print(f\"conventional optimization improvement = {round(conventional_best_ips/original_img_per_second,4)}x\")"
   ]
  },
  {
   "cell_type": "code",
   "execution_count": 7,
   "metadata": {},
   "outputs": [],
   "source": [
    "# can we do better?  Yes - we need to optimize by ensuring no cudaMalloc retries!"
   ]
  },
  {
   "cell_type": "markdown",
   "metadata": {},
   "source": [
    "![no retries with batch size = 16](images/tutorial_bs%3D16.png)"
   ]
  },
  {
   "cell_type": "markdown",
   "metadata": {},
   "source": [
    "Let's compare image per second speed:"
   ]
  },
  {
   "cell_type": "markdown",
   "metadata": {},
   "source": [
    "![OOM](images/tutorial_max_throughput_25%25.png)"
   ]
  },
  {
   "cell_type": "markdown",
   "metadata": {},
   "source": [
    "By optimizing to avoid cudaMalloc retries, and not simply 'just below OOM' we've improved throughput +25%!"
   ]
  },
  {
   "cell_type": "code",
   "execution_count": null,
   "metadata": {},
   "outputs": [],
   "source": [
    "# 'by hand' way to monitor gpu memory to avoid cudaMalloc retries...\n",
    "torch.cuda.memory_summary()\n",
    "            "
   ]
  },
  {
   "cell_type": "markdown",
   "metadata": {},
   "source": [
    "![cuda report](images/cuda_report_9retries.png)"
   ]
  },
  {
   "cell_type": "code",
   "execution_count": null,
   "metadata": {},
   "outputs": [],
   "source": [
    "# by code way - pytorch cuda apis:\n",
    "\n",
    "cuda_info = torch.cuda.memory_stats()\n",
    "\n",
    "num_retries = cuda_info.get(\"num_alloc_retries\", 0)\n",
    "cuda_ooms = cuda_info.get(\"num_ooms\", 0)\n",
    "\n",
    "print(f\"cudaMalloc retries = {num_retries}\")\n",
    "print(f\"cuda OOM = {cuda_ooms}\\n\")"
   ]
  },
  {
   "cell_type": "code",
   "execution_count": null,
   "metadata": {},
   "outputs": [],
   "source": [
    "# with utility class Memory_Maximizer:\n",
    "# setup memory tracking for perf\n",
    "from gpu_memory import Memory_Maximizer\n",
    "\n",
    "# setup memory tracking for perf\n",
    "    if rank == 0:\n",
    "        memmax = Memory_Maximizer()\n",
    "\n",
    "# memory and timing tracking\n",
    "    if local_rank == 0:\n",
    "        memmax.start()  # start will reset all tracking points\n",
    "\n",
    "# in training loop - at minibatch or epoch end point:\n",
    "    loss.backward()\n",
    "    optimizer.step()\n",
    "\n",
    "    # update durations and memory tracking\n",
    "    if local_rank == 0:\n",
    "        memmax.update()\n",
    "\n",
    "# at end of training - stop and print stats\n",
    "    # memory summary\n",
    "    if local_rank == 0:\n",
    "        memmax.stop()  # stop and display info  "
   ]
  },
  {
   "cell_type": "markdown",
   "metadata": {},
   "source": [
    "![OOM](images/tutorial_bs%3D16.png)"
   ]
  },
  {
   "cell_type": "code",
   "execution_count": 8,
   "metadata": {},
   "outputs": [],
   "source": [
    "# Summary - throughput for FSDP training is optimized by tuning batch size \n",
    "# to maximize GPU memory but *without* hitting cudaMalloc retries!"
   ]
  },
  {
   "cell_type": "code",
   "execution_count": null,
   "metadata": {},
   "outputs": [],
   "source": []
  }
 ],
 "metadata": {
  "kernelspec": {
   "display_name": "Python 3.9.13 ('pytorch_p39')",
   "language": "python",
   "name": "python3"
  },
  "language_info": {
   "codemirror_mode": {
    "name": "ipython",
    "version": 3
   },
   "file_extension": ".py",
   "mimetype": "text/x-python",
   "name": "python",
   "nbconvert_exporter": "python",
   "pygments_lexer": "ipython3",
   "version": "3.9.13"
  },
  "orig_nbformat": 4,
  "vscode": {
   "interpreter": {
    "hash": "eb71ac050f92a5d5e3cdea462f22e174d379ee0836c3076b1e7df4a375a19e34"
   }
  }
 },
 "nbformat": 4,
 "nbformat_minor": 2
}
