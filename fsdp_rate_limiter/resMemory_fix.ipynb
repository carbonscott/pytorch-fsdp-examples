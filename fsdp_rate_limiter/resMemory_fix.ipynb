{
 "cells": [
  {
   "cell_type": "code",
   "execution_count": 1,
   "metadata": {},
   "outputs": [
    {
     "data": {
      "text/plain": [
       "'1.13.0.dev20220914+cu116'"
      ]
     },
     "execution_count": 1,
     "metadata": {},
     "output_type": "execute_result"
    }
   ],
   "source": [
    "import torch\n",
    "torch.__version__"
   ]
  },
  {
   "cell_type": "code",
   "execution_count": 3,
   "metadata": {},
   "outputs": [],
   "source": [
    "# requires PyTorch Nightly 914 (2022) or later!\n",
    "\n",
    "# what is the rate limiter?  \n",
    "# basically monitors and blocks the main CPU (Python) thread from getting too far ahead relative \n",
    "# to the GPU compute thread\n",
    "# and thus prevent 'over buffering' memory allocations.  \n"
   ]
  },
  {
   "cell_type": "code",
   "execution_count": null,
   "metadata": {},
   "outputs": [],
   "source": []
  },
  {
   "cell_type": "code",
   "execution_count": null,
   "metadata": {},
   "outputs": [],
   "source": [
    "# turning it on will ensure no more than 2 all_gather buffers are allocated at a time.  \n",
    "# This may very slightly worsen (increase) your epoch times (~4%?), but can often greatly increase \n",
    "# available memory (~37%?)\n",
    "# Reinvest that freed memory by running larger batch sizes and thus you can potentially \n",
    "# accelerate training times,\n",
    "# in some cases substantially (50%+, but not a guarantee :) "
   ]
  },
  {
   "cell_type": "code",
   "execution_count": 4,
   "metadata": {},
   "outputs": [],
   "source": [
    "# how to turn it on?"
   ]
  },
  {
   "cell_type": "code",
   "execution_count": null,
   "metadata": {},
   "outputs": [],
   "source": [
    "    # ----- main FSDP init -----------\n",
    "    model = FSDP(\n",
    "        model,\n",
    "        auto_wrap_policy=my_auto_wrap_policy,\n",
    "        mixed_precision=mp_policy,\n",
    "        backward_prefetch=prefetch_policy,\n",
    "        sharding_strategy=cfg.sharding_strategy,\n",
    "        device_id=torch.cuda.current_device(),\n",
    "        forward_prefetch=cfg.forward_prefetch,\n",
    "        \n",
    "        limit_all_gathers=True,   # < ---- New.  Default is False, manually turn on with True\n",
    "    )"
   ]
  },
  {
   "cell_type": "code",
   "execution_count": null,
   "metadata": {},
   "outputs": [],
   "source": []
  }
 ],
 "metadata": {
  "kernelspec": {
   "display_name": "Python 3.9.13 ('pytorch_p39')",
   "language": "python",
   "name": "python3"
  },
  "language_info": {
   "codemirror_mode": {
    "name": "ipython",
    "version": 3
   },
   "file_extension": ".py",
   "mimetype": "text/x-python",
   "name": "python",
   "nbconvert_exporter": "python",
   "pygments_lexer": "ipython3",
   "version": "3.9.13"
  },
  "orig_nbformat": 4,
  "vscode": {
   "interpreter": {
    "hash": "eb71ac050f92a5d5e3cdea462f22e174d379ee0836c3076b1e7df4a375a19e34"
   }
  }
 },
 "nbformat": 4,
 "nbformat_minor": 2
}
